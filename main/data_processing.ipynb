{
 "cells": [
  {
   "cell_type": "markdown",
   "metadata": {
    "vscode": {
     "languageId": "plaintext"
    }
   },
   "source": [
    "# Import"
   ]
  },
  {
   "cell_type": "code",
   "execution_count": 84,
   "metadata": {},
   "outputs": [],
   "source": [
    "import pandas as pd\n",
    "import os"
   ]
  },
  {
   "cell_type": "code",
   "execution_count": 85,
   "metadata": {},
   "outputs": [],
   "source": [
    "# Get the current file's directory\n",
    "current_dir = ocurrent_dir = os.getcwd()\n",
    "\n",
    "project_root = os.path.dirname(current_dir)\n",
    "\n",
    "data_dir = os.path.join(project_root, 'data')\n",
    "customers_file = os.path.join(data_dir, 'customers_raw.csv')\n",
    "complaints_file = os.path.join(data_dir, 'complaints_raw.csv')\n",
    "\n",
    "customers_df = pd.read_csv(customers_file)\n",
    "complaints_df = pd.read_csv(complaints_file)"
   ]
  },
  {
   "cell_type": "markdown",
   "metadata": {},
   "source": [
    "# Clean"
   ]
  },
  {
   "cell_type": "code",
   "execution_count": 86,
   "metadata": {},
   "outputs": [],
   "source": [
    "# #inspect unique values and missing values\n",
    "\n",
    "# for col in customers_df.columns:\n",
    "#     print('----\\n', customers_df[col].value_counts(), '\\n\\n', customers_df[col].isna().sum())"
   ]
  },
  {
   "cell_type": "code",
   "execution_count": 87,
   "metadata": {},
   "outputs": [],
   "source": [
    "# New customers have positive monthly charges but no total charges.\n",
    "customers_df.loc[customers_df['TotalCharges'] == ' ', 'TotalCharges'] = customers_df.loc[customers_df['TotalCharges'] == ' ', 'MonthlyCharges']"
   ]
  },
  {
   "cell_type": "code",
   "execution_count": 88,
   "metadata": {},
   "outputs": [],
   "source": [
    "## Customer's data\n",
    "\n",
    "# Column names and variable types\n",
    "customers_df = customers_df.rename(columns={'customerID': 'CustomerId', 'tenure':'Tenure', 'gender':'Gender'})\n",
    "customers_df['CustomerId'] = customers_df['CustomerId'].astype(str)\n",
    "customers_df['Gender'] = customers_df['Gender'].astype(str)\n",
    "customers_df['SeniorCitizen'] = customers_df['SeniorCitizen'].astype(int)\n",
    "customers_df['Dependents'] = customers_df['Dependents'].astype(str).map({'No':0, 'Yes':1})\n",
    "customers_df['Tenure'] = customers_df['Tenure'].astype(int)\n",
    "customers_df['PhoneService'] = customers_df['PhoneService'].astype(str).map({'No':0, 'Yes':1})\n",
    "customers_df['MultipleLines'] = customers_df['MultipleLines'].astype('category')\n",
    "customers_df['InternetService'] = customers_df['InternetService'].astype('category')\n",
    "customers_df['OnlineSecurity'] = customers_df['OnlineSecurity'].astype('category')\n",
    "customers_df['OnlineBackup'] = customers_df['OnlineBackup'].astype('category')\n",
    "customers_df['DeviceProtection'] = customers_df['DeviceProtection'].astype('category')\n",
    "customers_df['TechSupport'] = customers_df['TechSupport'].astype('category')\n",
    "customers_df['StreamingTV'] = customers_df['StreamingTV'].astype('category')\n",
    "customers_df['StreamingMovies'] = customers_df['StreamingMovies'].astype('category')\n",
    "customers_df['Contract'] = customers_df['Contract'].astype('category')\n",
    "customers_df['ContractLengthMonths'] = customers_df['Contract'].astype(str).map({'Month-to-month':1, 'One year':12, 'Two year':24})\n",
    "customers_df = customers_df.drop(columns=['Contract'])\n",
    "customers_df['PaperlessBilling'] = customers_df['PaperlessBilling'].astype(str).map({'No':0, 'Yes':1})\n",
    "customers_df['PaymentMethod'] = customers_df['PaymentMethod'].astype('category')\n",
    "customers_df['MonthlyCharges'] = customers_df['MonthlyCharges'].astype(float)\n",
    "customers_df['TotalCharges'] = customers_df['TotalCharges'].astype(float)\n",
    "customers_df['Churn'] = customers_df['Churn'].astype(str).map({'No':0, 'Yes':1})\n",
    "\n",
    "# convert to one hot encoding\n",
    "categorical_columns = customers_df.select_dtypes(include=['category']).columns\n",
    "\n",
    "# Create one-hot encoding for each categorical column\n",
    "for column in categorical_columns:\n",
    "    # Create dummy variables and add prefix with column name\n",
    "    dummies = pd.get_dummies(customers_df[column], prefix=column)\n",
    "    \n",
    "    # Add dummy columns to dataframe\n",
    "    customers_df = pd.concat([customers_df, dummies], axis=1)\n",
    "    \n",
    "    # Drop the original categorical column\n",
    "    customers_df = customers_df.drop(column, axis=1)"
   ]
  },
  {
   "cell_type": "code",
   "execution_count": 89,
   "metadata": {},
   "outputs": [],
   "source": [
    "## Complaints data\n",
    "\n",
    "# Column names and variable types\n",
    "complaints_df = complaints_df.rename(columns={'customerID': 'CustomerId', 'complaint':'Complaint', 'complaint_number':'ComplaintNumber'})\n",
    "complaints_df['CustomerId'] = complaints_df['CustomerId'].astype(str)\n",
    "complaints_df['Complaint'] = complaints_df['Complaint'].astype(str)\n",
    "complaints_df['ComplaintNumber'] = complaints_df['ComplaintNumber'].astype(int)"
   ]
  },
  {
   "cell_type": "markdown",
   "metadata": {},
   "source": [
    "# Eng. features"
   ]
  },
  {
   "cell_type": "markdown",
   "metadata": {},
   "source": [
    "check if recording date of user is before or after monthly charge"
   ]
  },
  {
   "cell_type": "code",
   "execution_count": 90,
   "metadata": {},
   "outputs": [],
   "source": [
    "## Customer df\n",
    "\n",
    "# 1. ChangedPlan\n",
    "customers_df['ChangedPlan'] = 0\n",
    "expected_total = customers_df['Tenure'] * customers_df['MonthlyCharges']\n",
    "customers_df.loc[customers_df['TotalCharges'] != expected_total, 'ChangedPlan'] = 1\n",
    "\n",
    "# 2. ChangedPlanPositive\n",
    "customers_df['ChangedPlanPositive'] = 0\n",
    "customers_df.loc[customers_df['TotalCharges'] < expected_total, 'ChangedPlanPositive'] = 1\n",
    "\n",
    "# 3. ChangedPlanNegative\n",
    "customers_df['ChangedPlanNegative'] = 0\n",
    "customers_df.loc[customers_df['TotalCharges'] > expected_total, 'ChangedPlanNegative'] = 1\n",
    "\n",
    "# 4. InternetServicesDensity\n",
    "# First, get all service columns\n",
    "internet_services_columns = ['OnlineSecurity', 'OnlineBackup', 'DeviceProtection', \n",
    "                             'TechSupport', 'StreamingTV', 'StreamingMovies']\n",
    "\n",
    "# Count services that are not \"No\" and divide by 7\n",
    "# Define the internet services columns after one-hot encoding\n",
    "internet_services_binary = [col for col in customers_df.columns if any(service in col for service in [\n",
    "    'OnlineSecurity_Yes',\n",
    "    'OnlineBackup_Yes',\n",
    "    'DeviceProtection_Yes',\n",
    "    'TechSupport_Yes',\n",
    "    'StreamingTV_Yes',\n",
    "    'StreamingMovies_Yes'\n",
    "])]\n",
    "\n",
    "# Calculate the density using the binary columns\n",
    "customers_df['InternetServicesDensity'] = customers_df[internet_services_binary].sum(axis=1) / len(internet_services_binary)\n",
    "\n",
    "# # 6. ContractLifecycle\n",
    "# customers_df['ContractLifecycle'] = customers_df.apply(\n",
    "#     lambda row: (row['Tenure'] % row['ContractLengthMonths']) / row['ContractLengthMonths'], \n",
    "#     axis=1\n",
    "# )"
   ]
  },
  {
   "cell_type": "code",
   "execution_count": 91,
   "metadata": {},
   "outputs": [
    {
     "name": "stderr",
     "output_type": "stream",
     "text": [
      "[nltk_data] Downloading package punkt to /Users/marco/nltk_data...\n",
      "[nltk_data]   Package punkt is already up-to-date!\n",
      "[nltk_data] Downloading package stopwords to /Users/marco/nltk_data...\n",
      "[nltk_data]   Package stopwords is already up-to-date!\n",
      "[nltk_data] Downloading package averaged_perceptron_tagger to\n",
      "[nltk_data]     /Users/marco/nltk_data...\n",
      "[nltk_data]   Package averaged_perceptron_tagger is already up-to-\n",
      "[nltk_data]       date!\n"
     ]
    }
   ],
   "source": [
    "from textblob import TextBlob\n",
    "import re\n",
    "from collections import Counter\n",
    "import nltk\n",
    "from nltk.tokenize import word_tokenize\n",
    "from nltk.corpus import stopwords\n",
    "from nltk.tag import pos_tag\n",
    "\n",
    "# Download required NLTK data\n",
    "nltk.download('punkt')\n",
    "nltk.download('stopwords')\n",
    "nltk.download('averaged_perceptron_tagger')\n",
    "\n",
    "# Text preprocessing function\n",
    "def preprocess_text(text):\n",
    "    if not isinstance(text, str):\n",
    "        return \"\"\n",
    "    # Convert to lowercase\n",
    "    text = text.lower()\n",
    "\n",
    "    # Handle contractions\n",
    "    text = text.replace(\"'m\", \" am\")\n",
    "    text = text.replace(\"n't\", \" not\")\n",
    "    text = text.replace(\"'re\", \" are\")\n",
    "    text = text.replace(\"'s\", \" is\")\n",
    "    text = text.replace(\"'ll\", \" will\")\n",
    "    text = text.replace(\"'ve\", \" have\")\n",
    "    text = text.replace(\"'d\", \" would\")\n",
    "\n",
    "    # Remove special characters and numbers\n",
    "    text = re.sub(r'[^a-zA-Z\\s]', '', text)\n",
    "    \n",
    "    # Tokenize and remove stopwords\n",
    "    stop_words = set(stopwords.words('english'))\n",
    "    tokens = word_tokenize(text)\n",
    "    tokens = [word for word in tokens if word not in stop_words]\n",
    "    \n",
    "    return ' '.join(tokens)\n",
    "\n",
    "# Function to get key terms by POS tag for churned customers\n",
    "def get_key_terms_by_pos(complaints_df, customers_df, pos_tag_type, top_n=10):\n",
    "    # Merge complaints with customer data\n",
    "    merged_df = pd.merge(complaints_df, customers_df[['CustomerId', 'Churn']], on='CustomerId', how='left')\n",
    "    \n",
    "    # Get complaints from churned customers\n",
    "    churned_complaints = merged_df[merged_df['Churn'] == 0]['Complaint'].dropna()\n",
    "    \n",
    "    # Process all complaints\n",
    "    processed_complaints = [preprocess_text(text) for text in churned_complaints]\n",
    "    \n",
    "    # Get all words with specified POS tag\n",
    "    key_terms = []\n",
    "    for text in processed_complaints:\n",
    "        # POS tag the text\n",
    "        tagged = pos_tag(word_tokenize(text))\n",
    "        # Extract words with matching POS tag\n",
    "        if pos_tag_type == 'NOUN':\n",
    "            pos_filter = ['NN', 'NNS', 'NNP', 'NNPS']\n",
    "        elif pos_tag_type == 'VERB':\n",
    "            pos_filter = ['VB', 'VBD', 'VBG', 'VBN', 'VBP', 'VBZ']\n",
    "        elif pos_tag_type == 'ADJ':\n",
    "            pos_filter = ['JJ', 'JJR', 'JJS']\n",
    "        \n",
    "        key_terms.extend([word.lower() for word, tag in tagged if tag in pos_filter])\n",
    "    \n",
    "    # Get most common terms\n",
    "    return [word for word, _ in Counter(key_terms).most_common(top_n)]\n",
    "\n",
    "def count_terms(text, terms):\n",
    "    if not text:\n",
    "        return 0\n",
    "    words = text.split()\n",
    "    return sum(words.count(term) for term in terms)\n",
    "\n",
    "\n",
    "# Create the features\n",
    "\n",
    "# 0. ProcessedComplaint\n",
    "complaints_df['ProcessedComplaint'] = complaints_df['Complaint'].fillna('').apply(preprocess_text)\n",
    "\n",
    "# 1. ComplaintLength\n",
    "complaints_df['ComplaintLength'] = complaints_df['Complaint'].fillna('').str.len()\n",
    "\n",
    "# Get key terms for churned customers\n",
    "key_nouns = get_key_terms_by_pos(complaints_df, customers_df, 'NOUN')\n",
    "key_verbs = get_key_terms_by_pos(complaints_df, customers_df, 'VERB')\n",
    "key_adjectives = get_key_terms_by_pos(complaints_df, customers_df, 'ADJ')\n",
    "\n",
    "# Process complaints\n",
    "processed_complaints = complaints_df['ProcessedComplaint']\n",
    "\n",
    "\n",
    "# 2. Sentiment\n",
    "complaints_df['Sentiment'] = complaints_df['Complaint'].fillna('').apply(\n",
    "    lambda x: TextBlob(str(x)).sentiment.polarity\n",
    ")\n",
    "\n",
    "# 3. KeyVerbsCount\n",
    "complaints_df['KeyVerbsCount'] = processed_complaints.apply(\n",
    "    lambda x: count_terms(x, key_verbs)\n",
    ")\n",
    "\n",
    "# 4. KeyNounsCount\n",
    "complaints_df['KeyNounsCount'] = processed_complaints.apply(\n",
    "    lambda x: count_terms(x, key_nouns)\n",
    ")\n",
    "\n",
    "# 5. KeyAdjectivesCount\n",
    "complaints_df['KeyAdjectivesCount'] = processed_complaints.apply(\n",
    "    lambda x: count_terms(x, key_adjectives)\n",
    ")"
   ]
  },
  {
   "cell_type": "code",
   "execution_count": 92,
   "metadata": {},
   "outputs": [],
   "source": [
    "# anger df for anger score calculation\n",
    "anger_df = complaints_df.copy()\n",
    "max_complaint_number = anger_df.groupby('CustomerId')['ComplaintNumber'].aggregate('max')\n",
    "anger_df = anger_df.merge(max_complaint_number, on=['CustomerId', 'ComplaintNumber'], how='inner')[['CustomerId', 'ComplaintNumber', 'Complaint']]\n",
    "\n",
    "## pipeline to compute anger score with gen ai\n",
    "# ..\n",
    "# -> anger_df_result"
   ]
  },
  {
   "cell_type": "code",
   "execution_count": 93,
   "metadata": {},
   "outputs": [],
   "source": [
    "# compacting complaints into one column to have one row per customer\n",
    "compacted_complanits_df = anger_df.groupby('CustomerId').aggregate({'Complaint': ' '.join}).reset_index()\n",
    "# compacted_complanits_df['AngerScore'] = anger_df_result['AngerScore'].values  \n"
   ]
  },
  {
   "cell_type": "markdown",
   "metadata": {},
   "source": [
    "# Merged"
   ]
  },
  {
   "cell_type": "code",
   "execution_count": 94,
   "metadata": {},
   "outputs": [],
   "source": [
    "merdged_df = pd.merge(customers_df, compacted_complanits_df, on='CustomerId', how='left')\n",
    "merdged_df['HasComplaint'] = merdged_df['Complaint'].notna().astype(int)"
   ]
  },
  {
   "cell_type": "markdown",
   "metadata": {},
   "source": [
    "question: how to merge complaints with customer data when a user has more than one complaint?\n",
    "solution: compute anger score for the last complaint, append all complaints into into one,"
   ]
  },
  {
   "cell_type": "markdown",
   "metadata": {},
   "source": [
    "# Save CSV"
   ]
  },
  {
   "cell_type": "code",
   "execution_count": 99,
   "metadata": {},
   "outputs": [],
   "source": [
    "complaints_df.to_csv('/Users/marco/Documents/python_projects/churn_bcgx/data/complaints_processed.csv', index=False)\n",
    "customers_df.to_csv('/Users/marco/Documents/python_projects/churn_bcgx/data/customers_processed.csv', index=False)\n",
    "merdged_df.to_csv('/Users/marco/Documents/python_projects/churn_bcgx/data/customers_complaints_merdged.csv', index=False)\n",
    "anger_df.to_csv('/Users/marco/Documents/python_projects/churn_bcgx/data/complaitns_for_anger.csv', index=False)"
   ]
  }
 ],
 "metadata": {
  "kernelspec": {
   "display_name": ".venv",
   "language": "python",
   "name": "python3"
  },
  "language_info": {
   "codemirror_mode": {
    "name": "ipython",
    "version": 3
   },
   "file_extension": ".py",
   "mimetype": "text/x-python",
   "name": "python",
   "nbconvert_exporter": "python",
   "pygments_lexer": "ipython3",
   "version": "3.9.18"
  }
 },
 "nbformat": 4,
 "nbformat_minor": 2
}
